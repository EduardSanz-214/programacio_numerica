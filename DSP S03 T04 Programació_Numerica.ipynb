{
 "cells": [
  {
   "cell_type": "markdown",
   "metadata": {},
   "source": [
    "# Pràctica amb programació numèrica\n",
    "\n",
    "   Familiaritza't amb la Programació numèrica a través de la llibreria NumP"
   ]
  },
  {
   "cell_type": "markdown",
   "metadata": {},
   "source": [
    "## Nivell 1\n",
    "### Exercici 1\n",
    "\n",
    "Crea una funció que donat un Array d'una dimensió, et faci un resum estadístic bàsic de les dades. Si detecta que l'array té més d'una dimensio, ha de mostrar un missatge d'error."
   ]
  },
  {
   "cell_type": "code",
   "execution_count": 76,
   "metadata": {},
   "outputs": [],
   "source": [
    "import numpy as np"
   ]
  },
  {
   "cell_type": "markdown",
   "metadata": {},
   "source": [
    "Preparem un array de dimensió major que 1."
   ]
  },
  {
   "cell_type": "code",
   "execution_count": 77,
   "metadata": {},
   "outputs": [
    {
     "name": "stdout",
     "output_type": "stream",
     "text": [
      "[[[ 1  2  3]\n",
      "  [ 4  5  6]\n",
      "  [11 11 11]]\n",
      "\n",
      " [[ 7  8  9]\n",
      "  [11 12 13]\n",
      "  [22 22 22]]]\n",
      "3\n"
     ]
    }
   ],
   "source": [
    "r=np.array([[[1,2,3],[4,5,6],[11,11,11]],[[7,8,9],[11,12,13],[22,22,22]]])\n",
    "print(r)\n",
    "print(r.ndim)"
   ]
  },
  {
   "cell_type": "markdown",
   "metadata": {},
   "source": [
    "Definim la funció..."
   ]
  },
  {
   "cell_type": "code",
   "execution_count": 78,
   "metadata": {},
   "outputs": [],
   "source": [
    "def resum(a):\n",
    "    if a.ndim!=1:\n",
    "        print(\"L'array no és de dimensió 1!!\")\n",
    "    else:\n",
    "        print(a)\n",
    "        print(\"La longitud de l'array es \"+str(len(a)))\n",
    "        print(\"El número d'elements de l'array \"+str(a.size))\n",
    "        print(\"El typus dels elements és \"+str(a.dtype))\n",
    "        print(\"La shape de l'array es \"+str(a.shape))\n",
    "        print(\"La suma dels elements de l'array es \"+str(a.sum()))\n",
    "        print(\"El valor màxim de l'array és \"+str(a.max()))\n",
    "        print(\"El valor mínim de l'array és \"+str(a.min()))\n",
    "        print(\"La mitja :\"+str(a.mean()))\n",
    "        print(\"La mediana :\"+str(np.median(a)))"
   ]
  },
  {
   "cell_type": "code",
   "execution_count": 79,
   "metadata": {},
   "outputs": [
    {
     "name": "stdout",
     "output_type": "stream",
     "text": [
      "L'array no és de dimensió 1!!\n"
     ]
    }
   ],
   "source": [
    "resum(r)"
   ]
  },
  {
   "cell_type": "code",
   "execution_count": 80,
   "metadata": {},
   "outputs": [],
   "source": [
    "b=np.array([4,5,6,5,7,9,8,10,5,4,6,7,6,8,7,9,8])"
   ]
  },
  {
   "cell_type": "code",
   "execution_count": 75,
   "metadata": {},
   "outputs": [
    {
     "name": "stdout",
     "output_type": "stream",
     "text": [
      "[ 4  5  6  5  7  9  8 10  5  4  6  7  6  8  7  9  8]\n",
      "La longitud de l'array es 17\n",
      "El número d'elements de l'array 17\n",
      "El typus dels elements és int32\n",
      "La shape de l'array es (17,)\n",
      "La suma dels elements de l'array es 114\n",
      "El valor màxim de l'array és 10\n",
      "El valor mínim de l'array és 4\n",
      "La mitja :6.705882352941177\n",
      "La mediana :7.0\n",
      "[ 4  4  5  5  5  6  6  6  7  7  7  8  8  8  9  9 10]\n"
     ]
    }
   ],
   "source": [
    "resum(b)\n",
    "b.sort()\n",
    "print(b)"
   ]
  },
  {
   "cell_type": "markdown",
   "metadata": {},
   "source": [
    "## Exercici 2\n",
    "Crea una funció que et generi un quadrat NxN de nombres aleatoris entre el 0 i el 100."
   ]
  },
  {
   "cell_type": "code",
   "execution_count": 105,
   "metadata": {},
   "outputs": [],
   "source": [
    "from numpy import random\n",
    "def quadrat(n):\n",
    "    #n=int(input(\"Dimensió del quadrat NxN...\"))\n",
    "    x = random.randint(100,size=(n,n))\n",
    "    return(x)\n",
    "r=quadrat(3)"
   ]
  },
  {
   "cell_type": "markdown",
   "metadata": {},
   "source": [
    "## Exercici 3\n",
    "Crea una funció que donada una taula de dues dimensions, et calculi els totals per fila i els totals per columna."
   ]
  },
  {
   "cell_type": "code",
   "execution_count": 119,
   "metadata": {},
   "outputs": [],
   "source": [
    "def SumaColFil(n):\n",
    "    r=quadrat(n)\n",
    "    SumaCol=(r.sum(axis=0))\n",
    "    SumaFil=(r.sum(axis=1))\n",
    "    print(r)\n",
    "    print(\"L'array amb la suma de les columnes és \"+str(SumaCol))\n",
    "    print(\"L'array amb la suma de les    files és \"+str(SumaFil))\n"
   ]
  },
  {
   "cell_type": "code",
   "execution_count": 120,
   "metadata": {},
   "outputs": [
    {
     "name": "stdout",
     "output_type": "stream",
     "text": [
      "[[ 9 28]\n",
      " [85 78]]\n",
      "L'array amb la suma de les columnes és [ 94 106]\n",
      "L'array amb la suma de les    files és [ 37 163]\n"
     ]
    }
   ],
   "source": [
    "SumaColFil(2)\n"
   ]
  },
  {
   "cell_type": "markdown",
   "metadata": {},
   "source": [
    "## Exercici 4\n",
    "Implementa manualment una funció que calculi el coeficient de correlació. Informa’t-en sobre els seus usos i interpretació."
   ]
  },
  {
   "cell_type": "code",
   "execution_count": 150,
   "metadata": {},
   "outputs": [
    {
     "name": "stdout",
     "output_type": "stream",
     "text": [
      "0.8780615581542278\n",
      "0.8780615581542283\n"
     ]
    }
   ],
   "source": [
    "# El coeficient de correlacio entre dues variables ens indicara si hi ha una relacio directa entre les variables\n",
    "Mates=np.array([2,3,4,4,5,6,6,7,7,8,10,10,6,7,5,7,9])\n",
    "Fisic=np.array([1,3,2,4,4,4,6,4,6,7,9,10,8,6,4,8,7])\n",
    "\n",
    "def Coeficient(Mates,Fisic):\n",
    "    Prod=Mates*Fisic\n",
    "    Mates2=Mates*Mates\n",
    "    Fisic2=Fisic*Fisic\n",
    "    #print(Prod)\n",
    "    #print(Mates2)\n",
    "    #print(Fisic2)\n",
    "    #print(\"Media Mates :\"+str(Mates.mean()))\n",
    "    #print(\"Media Fisica:\"+str(Fisic.mean()))\n",
    "    #print(\"La covarianza es:\")\n",
    "    covarianza=(Prod.mean()-Mates.mean()*Fisic.mean())\n",
    "    #print(covarianza)\n",
    "    #print(\"La desviacion tipica de Mates es :\"+str(math.sqrt(Mates2-pow(Mates.mean(),2))))\n",
    "    #print(\"La desviacion tipica de Mates es :\")\n",
    "    dt1=(np.sqrt(Mates2.mean()-pow(Mates.mean(),2)))\n",
    "    #print(dt1)\n",
    "    #print(\"La desviacion tipica de Fisica es :\")\n",
    "    dt2=(np.sqrt(Fisic2.mean()-pow(Fisic.mean(),2)))\n",
    "    #print(dt2)\n",
    "    #print(\"El coeficiente de correlacion es:\")\n",
    "    coef=covarianza/(dt1*dt2)\n",
    "    return(coef)\n",
    "\n",
    "b=Coeficient(Mates,Fisic)\n",
    "print(b)\n",
    "\n",
    "a=np.corrcoef(Mates,Fisic)\n",
    "print(a[0][1])"
   ]
  }
 ],
 "metadata": {
  "kernelspec": {
   "display_name": "Python 3",
   "language": "python",
   "name": "python3"
  },
  "language_info": {
   "codemirror_mode": {
    "name": "ipython",
    "version": 3
   },
   "file_extension": ".py",
   "mimetype": "text/x-python",
   "name": "python",
   "nbconvert_exporter": "python",
   "pygments_lexer": "ipython3",
   "version": "3.8.5"
  }
 },
 "nbformat": 4,
 "nbformat_minor": 4
}
